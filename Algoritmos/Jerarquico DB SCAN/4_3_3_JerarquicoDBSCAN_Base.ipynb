{
  "nbformat": 4,
  "nbformat_minor": 0,
  "metadata": {
    "colab": {
      "provenance": [],
      "include_colab_link": true
    },
    "kernelspec": {
      "name": "python3",
      "display_name": "Python 3"
    },
    "language_info": {
      "name": "python"
    }
  },
  "cells": [
    {
      "cell_type": "markdown",
      "metadata": {
        "id": "view-in-github",
        "colab_type": "text"
      },
      "source": [
        "<a href=\"https://colab.research.google.com/github/cesarrivera52/Concentracion2/blob/main/Algoritmos/Jerarquico%20DB%20SCAN/4_3_3_JerarquicoDBSCAN_Base.ipynb\" target=\"_parent\"><img src=\"https://colab.research.google.com/assets/colab-badge.svg\" alt=\"Open In Colab\"/></a>"
      ]
    },
    {
      "cell_type": "markdown",
      "source": [
        "#Algoritmo jerárquico\n",
        "Datos ejemplo"
      ],
      "metadata": {
        "id": "HoEuVNpqND3V"
      }
    },
    {
      "cell_type": "markdown",
      "source": [
        "## Datos Ejemplo\n",
        "\n",
        "(Ejercicio de Excel)"
      ],
      "metadata": {
        "id": "JFU5UzTHN-0X"
      }
    },
    {
      "cell_type": "code",
      "source": [
        "from sklearn.cluster import AgglomerativeClustering\n",
        "import pandas as pd\n",
        "from pandas import DataFrame\n",
        "import numpy as np\n",
        "#Datos\n",
        "Datos=pd.DataFrame({'Temperatura':[72,70,83,80,75,64 ],\\\n",
        "                    'Humedad':[90,96,86,90,70,65]})\n",
        "#Algoritmo\n",
        "Algoritmo = AgglomerativeClustering(n_clusters=3)\n",
        "\n",
        "#Organizar grupos\n",
        "Grupos=Algoritmo.fit(Datos)\n",
        "\n",
        "#Cluster asignados\n",
        "Grupos.labels_\n",
        "\n",
        "####################################"
      ],
      "metadata": {
        "id": "47kW0cQdPmjf",
        "colab": {
          "base_uri": "https://localhost:8080/"
        },
        "outputId": "d9e5c281-d4f1-40db-ba46-ead60cda7920"
      },
      "execution_count": 3,
      "outputs": [
        {
          "output_type": "execute_result",
          "data": {
            "text/plain": [
              "array([1, 1, 2, 2, 0, 0])"
            ]
          },
          "metadata": {},
          "execution_count": 3
        }
      ]
    },
    {
      "cell_type": "code",
      "source": [
        "#Análisis de distancias\n",
        "from sklearn.metrics import pairwise_distances_chunked\n",
        "from scipy.cluster.hierarchy import dendrogram\n",
        "import matplotlib.pyplot as plt\n",
        "\n",
        "\n",
        "Matriz=next(pairwise_distances_chunked(Datos))\n",
        "  #metric='euclidean' (default)\n",
        "print(Matriz)"
      ],
      "metadata": {
        "id": "DkbbXG8SRkJu",
        "colab": {
          "base_uri": "https://localhost:8080/"
        },
        "outputId": "f467d6e2-5dc9-4140-8ffb-dd581728167c"
      },
      "execution_count": 8,
      "outputs": [
        {
          "output_type": "stream",
          "name": "stdout",
          "text": [
            "[[ 0.          6.32455532 11.70469991  8.         20.22374842 26.2488095 ]\n",
            " [ 6.32455532  0.         16.40121947 11.66190379 26.47640459 31.57530681]\n",
            " [11.70469991 16.40121947  0.          5.         17.88854382 28.31960452]\n",
            " [ 8.         11.66190379  5.          0.         20.61552813 29.68164416]\n",
            " [20.22374842 26.47640459 17.88854382 20.61552813  0.         12.08304597]\n",
            " [26.2488095  31.57530681 28.31960452 29.68164416 12.08304597  0.        ]]\n"
          ]
        }
      ]
    },
    {
      "cell_type": "code",
      "source": [
        "from scipy.cluster.hierarchy import dendrogram, linkage\n",
        "import matplotlib.pyplot as plt\n",
        "\n",
        "linkage_matrix = linkage(Datos, method='complete')\n",
        "print(linkage_matrix)\n",
        "dendrogram(linkage_matrix)\n",
        "plt.show()"
      ],
      "metadata": {
        "id": "1ceNSoQLdBoE",
        "colab": {
          "base_uri": "https://localhost:8080/",
          "height": 519
        },
        "outputId": "4ba2e693-48ed-411a-e559-3cc790570aeb"
      },
      "execution_count": 9,
      "outputs": [
        {
          "output_type": "stream",
          "name": "stdout",
          "text": [
            "[[ 2.          3.          5.          2.        ]\n",
            " [ 0.          1.          6.32455532  2.        ]\n",
            " [ 4.          5.         12.08304597  2.        ]\n",
            " [ 6.          7.         16.40121947  4.        ]\n",
            " [ 8.          9.         31.57530681  6.        ]]\n"
          ]
        },
        {
          "output_type": "display_data",
          "data": {
            "text/plain": [
              "<Figure size 640x480 with 1 Axes>"
            ],
            "image/png": "[encoded data removed]"
          },
          "metadata": {}
        }
      ]
    },
    {
      "cell_type": "markdown",
      "source": [
        "## Ejemplo con un conjunto de datos"
      ],
      "metadata": {
        "id": "o-ZXYQ7lsCXc"
      }
    },
    {
      "cell_type": "code",
      "source": [
        "frame=pd.read_csv('diabetes.csv')\n",
        "\n",
        "datos= frame[['plas','pres','skin','insu']]\n",
        "print(datos.head())\n",
        "\n",
        "#### Algoritmo ######\n",
        "\n",
        "Algoritmo = AgglomerativeClustering(n_clusters=10)\n",
        "Etiquetas = Algoritmo.fit(datos)\n",
        "Etiquetas.labels_\n",
        "\n",
        "# Numero de instancias por grupo\n",
        "\n",
        "etiquetas=pd.Series(Etiquetas.labels_) #Genera una serie con los datos de los grupos\n",
        "print(etiquetas.value_counts())\n",
        "\n",
        "linkage_matrix = linkage(datos, method='complete')\n",
        "print(linkage_matrix)\n",
        "dendrogram(linkage_matrix)\n",
        "plt.show()"
      ],
      "metadata": {
        "colab": {
          "base_uri": "https://localhost:8080/",
          "height": 837
        },
        "id": "5rJEDr0Xsrj-",
        "outputId": "4f05e6c0-9b3f-4c1d-c43d-f6a33ef3bda5"
      },
      "execution_count": 24,
      "outputs": [
        {
          "output_type": "stream",
          "name": "stdout",
          "text": [
            "   plas  pres  skin  insu\n",
            "0   158    76    36   245\n",
            "1   117    60    23   106\n",
            "2   107    50    19     0\n",
            "3    90    62    12    43\n",
            "4    88    58    26    16\n",
            "2    176\n",
            "3    118\n",
            "0    111\n",
            "9    100\n",
            "5     99\n",
            "7     74\n",
            "8     35\n",
            "4     32\n",
            "1     20\n",
            "6      3\n",
            "Name: count, dtype: int64\n",
            "[[  13.          417.            0.            2.        ]\n",
            " [ 116.          696.            0.            2.        ]\n",
            " [  25.          600.            0.            2.        ]\n",
            " ...\n",
            " [1524.         1528.          344.19907031   52.        ]\n",
            " [1526.         1532.          596.16524555   55.        ]\n",
            " [1531.         1533.          867.13205453  768.        ]]\n"
          ]
        },
        {
          "output_type": "display_data",
          "data": {
            "text/plain": [
              "<Figure size 640x480 with 1 Axes>"
            ],
            "image/png": "[encoded data removed]"
          },
          "metadata": {}
        }
      ]
    },
    {
      "cell_type": "markdown",
      "source": [
        "#DBSCAN"
      ],
      "metadata": {
        "id": "Yh62OF2BpPiD"
      }
    },
    {
      "cell_type": "code",
      "source": [
        "from sklearn.cluster import DBSCAN\n",
        "Algoritmo=DBSCAN(eps=10, min_samples=10)\n",
        "\n",
        "Grupos=Algoritmo.fit(Datos)\n",
        "#print(Grupos.labels_)\n",
        "labels=pd.Series(Grupos.labels_)\n",
        "\n",
        "\n",
        "ConteoGrupos=labels.value_counts()\n",
        "print(\"Clusters generados:\", len(ConteoGrupos)-1)\n",
        "print(\"Instancias 'ruido':\", ConteoGrupos.loc[-1])\n",
        "print(\"Instancias por cluster:\\n\",pd.Series(labels).value_counts())\n"
      ],
      "metadata": {
        "id": "I5_0QPq0prcB"
      },
      "execution_count": null,
      "outputs": []
    },
    {
      "cell_type": "code",
      "source": [
        "from sklearn import metrics\n",
        "print(metrics.silhouette_score(Datos,Grupos.labels_, metric='euclidean'))"
      ],
      "metadata": {
        "id": "Z9zxPb_-scNx"
      },
      "execution_count": null,
      "outputs": []
    },
    {
      "cell_type": "code",
      "source": [
        "%%shell\n",
        "jupyter nbconvert --to html 4_3_3_JerarquicoDBSCAN.ipynb"
      ],
      "metadata": {
        "id": "NoImzTWj01hY"
      },
      "execution_count": null,
      "outputs": []
    }
  ]
}